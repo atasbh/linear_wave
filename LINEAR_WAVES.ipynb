{
 "cells": [
  {
   "cell_type": "code",
   "execution_count": 1,
   "metadata": {},
   "outputs": [],
   "source": [
    "import numpy as np\n",
    "import pandas as pd\n",
    "import matplotlib.pyplot as plt\n",
    "from scipy.signal import argrelextrema\n",
    "import seaborn as sb\n",
    "import math\n",
    "from datetime import date\n",
    "from windrose import WindroseAxes\n",
    "import matplotlib.animation as animation"
   ]
  },
  {
   "cell_type": "code",
   "execution_count": 2,
   "metadata": {},
   "outputs": [],
   "source": [
    "a = 2\n",
    "T = 7\n",
    "h = 20\n",
    "g = 9.81\n",
    "x = np.arange(0,200,0.1)\n",
    "t = np.arange(0,100,1)\n",
    "\n",
    "# eta = a*cos(k*x - omega*t)"
   ]
  },
  {
   "cell_type": "code",
   "execution_count": 3,
   "metadata": {},
   "outputs": [],
   "source": [
    "omega = 2*np.pi/T\n",
    "L0 = (g/(2*np.pi))*(T**2)\n",
    "K0 = (2*np.pi)/L0\n",
    "L = L0*(np.tanh(np.sinh(np.sqrt(K0*h))))\n",
    "K = (2*np.pi)/L"
   ]
  },
  {
   "cell_type": "code",
   "execution_count": 4,
   "metadata": {},
   "outputs": [],
   "source": [
    "T = np.array([7,7,7,4,4,4,600,600])\n",
    "h = np.array([100,10,1,100,10,1,1000,100])\n",
    "L0 = (g/(2*np.pi))*(T**2)\n",
    "K0 = (2*np.pi)/L0\n",
    "L = L0*(np.tanh(np.sinh(np.sqrt(K0*h))))\n",
    "c = L/T\n",
    "cg = c/2\n",
    "h_L = h/L"
   ]
  },
  {
   "cell_type": "code",
   "execution_count": 5,
   "metadata": {},
   "outputs": [
    {
     "data": {
      "text/html": [
       "<div>\n",
       "<style scoped>\n",
       "    .dataframe tbody tr th:only-of-type {\n",
       "        vertical-align: middle;\n",
       "    }\n",
       "\n",
       "    .dataframe tbody tr th {\n",
       "        vertical-align: top;\n",
       "    }\n",
       "\n",
       "    .dataframe thead th {\n",
       "        text-align: right;\n",
       "    }\n",
       "</style>\n",
       "<table border=\"1\" class=\"dataframe\">\n",
       "  <thead>\n",
       "    <tr style=\"text-align: right;\">\n",
       "      <th></th>\n",
       "      <th>T</th>\n",
       "      <th>h</th>\n",
       "      <th>L</th>\n",
       "      <th>c</th>\n",
       "      <th>cg</th>\n",
       "      <th>h/L</th>\n",
       "      <th>DP/I/SW</th>\n",
       "    </tr>\n",
       "  </thead>\n",
       "  <tbody>\n",
       "    <tr>\n",
       "      <th>0</th>\n",
       "      <td>7.0</td>\n",
       "      <td>100.0</td>\n",
       "      <td>76.504186</td>\n",
       "      <td>10.929169</td>\n",
       "      <td>5.464585</td>\n",
       "      <td>1.307118</td>\n",
       "      <td>DP</td>\n",
       "    </tr>\n",
       "    <tr>\n",
       "      <th>1</th>\n",
       "      <td>7.0</td>\n",
       "      <td>10.0</td>\n",
       "      <td>59.375014</td>\n",
       "      <td>8.482145</td>\n",
       "      <td>4.241072</td>\n",
       "      <td>0.168421</td>\n",
       "      <td>I</td>\n",
       "    </tr>\n",
       "    <tr>\n",
       "      <th>2</th>\n",
       "      <td>7.0</td>\n",
       "      <td>1.0</td>\n",
       "      <td>21.621094</td>\n",
       "      <td>3.088728</td>\n",
       "      <td>1.544364</td>\n",
       "      <td>0.046251</td>\n",
       "      <td>SW</td>\n",
       "    </tr>\n",
       "    <tr>\n",
       "      <th>3</th>\n",
       "      <td>4.0</td>\n",
       "      <td>100.0</td>\n",
       "      <td>24.980960</td>\n",
       "      <td>6.245240</td>\n",
       "      <td>3.122620</td>\n",
       "      <td>4.003049</td>\n",
       "      <td>DP</td>\n",
       "    </tr>\n",
       "    <tr>\n",
       "      <th>4</th>\n",
       "      <td>4.0</td>\n",
       "      <td>10.0</td>\n",
       "      <td>24.521215</td>\n",
       "      <td>6.130304</td>\n",
       "      <td>3.065152</td>\n",
       "      <td>0.407810</td>\n",
       "      <td>I</td>\n",
       "    </tr>\n",
       "    <tr>\n",
       "      <th>5</th>\n",
       "      <td>4.0</td>\n",
       "      <td>1.0</td>\n",
       "      <td>11.987436</td>\n",
       "      <td>2.996859</td>\n",
       "      <td>1.498429</td>\n",
       "      <td>0.083421</td>\n",
       "      <td>I</td>\n",
       "    </tr>\n",
       "    <tr>\n",
       "      <th>6</th>\n",
       "      <td>600.0</td>\n",
       "      <td>1000.0</td>\n",
       "      <td>59316.363428</td>\n",
       "      <td>98.860606</td>\n",
       "      <td>49.430303</td>\n",
       "      <td>0.016859</td>\n",
       "      <td>SW</td>\n",
       "    </tr>\n",
       "    <tr>\n",
       "      <th>7</th>\n",
       "      <td>600.0</td>\n",
       "      <td>100.0</td>\n",
       "      <td>18789.049883</td>\n",
       "      <td>31.315083</td>\n",
       "      <td>15.657542</td>\n",
       "      <td>0.005322</td>\n",
       "      <td>SW</td>\n",
       "    </tr>\n",
       "  </tbody>\n",
       "</table>\n",
       "</div>"
      ],
      "text/plain": [
       "       T       h             L          c         cg       h/L DP/I/SW\n",
       "0    7.0   100.0     76.504186  10.929169   5.464585  1.307118      DP\n",
       "1    7.0    10.0     59.375014   8.482145   4.241072  0.168421       I\n",
       "2    7.0     1.0     21.621094   3.088728   1.544364  0.046251      SW\n",
       "3    4.0   100.0     24.980960   6.245240   3.122620  4.003049      DP\n",
       "4    4.0    10.0     24.521215   6.130304   3.065152  0.407810       I\n",
       "5    4.0     1.0     11.987436   2.996859   1.498429  0.083421       I\n",
       "6  600.0  1000.0  59316.363428  98.860606  49.430303  0.016859      SW\n",
       "7  600.0   100.0  18789.049883  31.315083  15.657542  0.005322      SW"
      ]
     },
     "execution_count": 5,
     "metadata": {},
     "output_type": "execute_result"
    }
   ],
   "source": [
    "chart = pd.DataFrame([T,h,L,c,cg,h_L])\n",
    "chart = chart.T\n",
    "chart.columns = ['T','h','L','c','cg','h/L']\n",
    "chart['DP/I/SW'] = ['DP','I','SW','DP','I','I','SW','SW']\n",
    "chart"
   ]
  },
  {
   "cell_type": "code",
   "execution_count": null,
   "metadata": {},
   "outputs": [],
   "source": []
  },
  {
   "cell_type": "code",
   "execution_count": 4,
   "metadata": {},
   "outputs": [],
   "source": [
    "for i in t:\n",
    "    eta = a*np.cos((K*x) - (omega*i))\n",
    "    "
   ]
  },
  {
   "cell_type": "code",
   "execution_count": 5,
   "metadata": {},
   "outputs": [
    {
     "data": {
      "image/png": "[encoded data removed]",
      "text/plain": [
       "<Figure size 432x288 with 1 Axes>"
      ]
     },
     "metadata": {
      "needs_background": "light"
     },
     "output_type": "display_data"
    }
   ],
   "source": [
    "plt.plot(x, eta)\n",
    "plt.grid()\n",
    "plt.ylim(-5,5)\n",
    "plt.xlabel('X (m)')\n",
    "plt.ylabel('eta (m)')\n",
    "plt.show()"
   ]
  },
  {
   "cell_type": "code",
   "execution_count": 12,
   "metadata": {},
   "outputs": [],
   "source": [
    "H1 = 2;\n",
    "a1 = H1/2;\n",
    "T1 = 6;\n",
    "H2 = 1.5;\n",
    "a2 = H2/2;\n",
    "T2 = 4.5;\n",
    "x = np.arange(0,500);\n",
    "t = np.arange(1,200)\n",
    "\n",
    "h = 20;\n",
    "g = 9.81;\n",
    "L01 = (g/(2*math.pi))*T1**2;\n",
    "L02 = (g/(2*math.pi))*T2**2;\n",
    "k01 = 2*math.pi/L01;\n",
    "k02 = 2*math.pi/L02;\n",
    "L1 = L01*math.tanh(math.sinh(math.sqrt(k01*h)));\n",
    "L2 = L02*math.tanh(math.sinh(math.sqrt(k02*h)));\n",
    "k1 = 2*math.pi/L1;\n",
    "k2 = 2*math.pi/L2;\n",
    "omega1 = 2*math.pi/T1;\n",
    "omega2 = 2*math.pi/T2;"
   ]
  },
  {
   "cell_type": "code",
   "execution_count": 46,
   "metadata": {},
   "outputs": [
    {
     "data": {
      "text/plain": [
       "(-5.0, 5.0)"
      ]
     },
     "execution_count": 46,
     "metadata": {},
     "output_type": "execute_result"
    },
    {
     "data": {
      "image/png": "[encoded data removed]",
      "text/plain": [
       "<Figure size 936x216 with 1 Axes>"
      ]
     },
     "metadata": {
      "needs_background": "light"
     },
     "output_type": "display_data"
    }
   ],
   "source": [
    "for i in range(1,len(t)):\n",
    "    eta1 = a1*np.cos(k1*x - omega1*t[i])\n",
    "    eta2 = a2*np.cos(k2*x - omega2*t[i])\n",
    "    eta = eta1+eta2\n",
    "\n",
    "plt.figure(figsize=(13,3))    \n",
    "\n",
    "plt.plot(x,eta)\n",
    "plt.axhline(y = 0, color = 'r', linestyle = '-')\n",
    "plt.xlabel('x(m)')\n",
    "plt.ylabel('\\eta (m)')\n",
    "plt.ylim(-5,5)"
   ]
  },
  {
   "cell_type": "code",
   "execution_count": 74,
   "metadata": {},
   "outputs": [],
   "source": [
    "H_m = np.array([2.1,3.1,1.8,2.4])\n",
    "T_s = np.array([7.5,8.5,6.5,7.0])\n",
    "L_m = np.array([83.8,102.7,64.9,74.3])\n",
    "k_m = 2*math.pi/L_m\n",
    "theta = np.arange(0,90,10)"
   ]
  },
  {
   "cell_type": "code",
   "execution_count": 75,
   "metadata": {},
   "outputs": [],
   "source": [
    "k_sh = np.sqrt(1/((np.tanh(k_m*H_m))*(1+(2*k_m*H_m/(np.sinh(2*k_m*H_m))))))"
   ]
  },
  {
   "cell_type": "code",
   "execution_count": 108,
   "metadata": {},
   "outputs": [],
   "source": [
    "k_r = []\n",
    "for i in range(0,len(theta)-1):\n",
    "    x = np.sqrt(np.cos(np.deg2rad(theta[i]))/np.cos(np.deg2rad(theta[i+1])))\n",
    "    k_r.append(x)\n",
    "    "
   ]
  },
  {
   "cell_type": "code",
   "execution_count": 110,
   "metadata": {},
   "outputs": [
    {
     "ename": "ValueError",
     "evalue": "operands could not be broadcast together with shapes (4,) (8,) ",
     "output_type": "error",
     "traceback": [
      "\u001b[1;31m---------------------------------------------------------------------------\u001b[0m",
      "\u001b[1;31mValueError\u001b[0m                                Traceback (most recent call last)",
      "\u001b[1;32m~\\AppData\\Local\\Temp/ipykernel_10112/3677389799.py\u001b[0m in \u001b[0;36m<module>\u001b[1;34m\u001b[0m\n\u001b[1;32m----> 1\u001b[1;33m \u001b[0mH\u001b[0m \u001b[1;33m=\u001b[0m \u001b[0mk_sh\u001b[0m \u001b[1;33m*\u001b[0m \u001b[0mk_r\u001b[0m \u001b[1;33m*\u001b[0m \u001b[0mH_m\u001b[0m\u001b[1;33m\u001b[0m\u001b[1;33m\u001b[0m\u001b[0m\n\u001b[0m",
      "\u001b[1;31mValueError\u001b[0m: operands could not be broadcast together with shapes (4,) (8,) "
     ]
    }
   ],
   "source": [
    "H = k_sh * k_r * H_m"
   ]
  },
  {
   "cell_type": "code",
   "execution_count": 112,
   "metadata": {},
   "outputs": [
    {
     "data": {
      "text/plain": [
       "([1.0076837856618241,\n",
       "  1.0237238499309955,\n",
       "  1.0416638493931227,\n",
       "  1.0632572007031678,\n",
       "  1.0916746734234561,\n",
       "  1.1338320948769613,\n",
       "  1.209091477135433,\n",
       "  1.4034299077703938],\n",
       " array([1.79668879, 1.64307424, 1.71096869, 1.59104372]))"
      ]
     },
     "execution_count": 112,
     "metadata": {},
     "output_type": "execute_result"
    }
   ],
   "source": [
    "k_r, k_sh"
   ]
  },
  {
   "cell_type": "code",
   "execution_count": 100,
   "metadata": {},
   "outputs": [
    {
     "data": {
      "text/plain": [
       "0.17453292519943295"
      ]
     },
     "execution_count": 100,
     "metadata": {},
     "output_type": "execute_result"
    }
   ],
   "source": [
    "np.deg2rad(10)"
   ]
  },
  {
   "cell_type": "code",
   "execution_count": 101,
   "metadata": {},
   "outputs": [
    {
     "data": {
      "text/plain": [
       "0.984807753012208"
      ]
     },
     "execution_count": 101,
     "metadata": {},
     "output_type": "execute_result"
    }
   ],
   "source": [
    "np.cos(0.17453292519943295)"
   ]
  },
  {
   "cell_type": "code",
   "execution_count": 28,
   "metadata": {},
   "outputs": [
    {
     "data": {
      "text/plain": [
       "Text(0, 0.5, 'z(m)')"
      ]
     },
     "execution_count": 28,
     "metadata": {},
     "output_type": "execute_result"
    },
    {
     "data": {
      "image/png": "[encoded data removed]",
      "text/plain": [
       "<Figure size 432x288 with 1 Axes>"
      ]
     },
     "metadata": {
      "needs_background": "light"
     },
     "output_type": "display_data"
    }
   ],
   "source": [
    "# Particle velocity\n",
    "\n",
    "T = 10\n",
    "H = 3\n",
    "h = 20\n",
    "a = 2\n",
    "g = 9.81\n",
    "omega = 2*np.pi/T\n",
    "L0 = (g/(2*np.pi))*(T**2)\n",
    "K0 = (2*np.pi)/L0\n",
    "L = L0*(np.tanh(np.sinh(np.sqrt(K0*h))))\n",
    "K = (2*np.pi)/L\n",
    "x = np.arange(-50,50,0.1)\n",
    "t = np.arange(0,100,0.1)\n",
    "z = np.arange(-50,0,0.05)\n",
    "u = (a*g*K/omega)*((np.cosh(K*(h+z)))/np.cosh(K*h))*(np.cos(K*x-omega*t))\n",
    "plt.plot(u,z)\n",
    "plt.xlabel('u(m/s)')\n",
    "plt.ylabel('z(m)')"
   ]
  },
  {
   "cell_type": "code",
   "execution_count": 56,
   "metadata": {
    "scrolled": true
   },
   "outputs": [
    {
     "data": {
      "text/plain": [
       "Text(0, 0.5, 'z (m)')"
      ]
     },
     "execution_count": 56,
     "metadata": {},
     "output_type": "execute_result"
    },
    {
     "data": {
      "image/png": "[encoded data removed]",
      "text/plain": [
       "<Figure size 432x288 with 1 Axes>"
      ]
     },
     "metadata": {
      "needs_background": "light"
     },
     "output_type": "display_data"
    }
   ],
   "source": [
    "# Exess pressure\n",
    "\n",
    "T = 5\n",
    "H = 1\n",
    "h = 100\n",
    "a = 2\n",
    "g = 9.81\n",
    "roh = 1.02\n",
    "omega = 2*np.pi/T\n",
    "L0 = (g/(2*np.pi))*(T**2)\n",
    "K0 = (2*np.pi)/L0\n",
    "L = L0*(np.tanh(np.sinh(np.sqrt(K0*h))))\n",
    "K = (2*np.pi)/L\n",
    "x = np.arange(-50,50,0.1)\n",
    "t = np.arange(0,100,0.1)\n",
    "z = np.arange(-50,0,0.05)\n",
    "n = a*np.cos(K*x-omega*t)\n",
    "Kp = np.cosh(K*(h+z))/(np.cosh(K*h))\n",
    "P_plus = roh * g * n * Kp\n",
    "\n",
    "\n",
    "plt.plot(P_plus, z)\n",
    "plt.xlabel('P+')\n",
    "plt.ylabel('z (m)')"
   ]
  },
  {
   "cell_type": "code",
   "execution_count": 57,
   "metadata": {
    "scrolled": true
   },
   "outputs": [
    {
     "data": {
      "text/plain": [
       "Text(0, 0.5, 'z (m)')"
      ]
     },
     "execution_count": 57,
     "metadata": {},
     "output_type": "execute_result"
    },
    {
     "data": {
      "image/png": "[encoded data removed]",
      "text/plain": [
       "<Figure size 432x288 with 1 Axes>"
      ]
     },
     "metadata": {
      "needs_background": "light"
     },
     "output_type": "display_data"
    }
   ],
   "source": [
    "P_I = -roh*g*z\n",
    "\n",
    "plt.plot(P_I, z)\n",
    "plt.xlabel('PI')\n",
    "plt.ylabel('z (m)')"
   ]
  },
  {
   "cell_type": "code",
   "execution_count": 58,
   "metadata": {},
   "outputs": [
    {
     "data": {
      "text/plain": [
       "Text(0, 0.5, 'z (m)')"
      ]
     },
     "execution_count": 58,
     "metadata": {},
     "output_type": "execute_result"
    },
    {
     "data": {
      "image/png": "[encoded data removed]",
      "text/plain": [
       "<Figure size 432x288 with 1 Axes>"
      ]
     },
     "metadata": {
      "needs_background": "light"
     },
     "output_type": "display_data"
    }
   ],
   "source": [
    "P_tot = P_plus + P_I\n",
    "plt.plot(P_tot, z)\n",
    "plt.xlabel('P_tot')\n",
    "plt.ylabel('z (m)')"
   ]
  },
  {
   "cell_type": "code",
   "execution_count": 146,
   "metadata": {},
   "outputs": [],
   "source": [
    "H0 = 1\n",
    "T = 6\n",
    "theta0 = 30\n",
    "omega = 2*np.pi/T\n",
    "g = 9.81\n",
    "L0 = (g/(2*np.pi))*(T**2)\n",
    "K0 = (2*np.pi)/L0\n",
    "\n",
    "h = np.arange(100,-1,-2)\n",
    "x = np.arange(2500,-1,-100)\n",
    "L = L0*(np.tanh(np.sinh(np.sqrt(K0*h))))\n",
    "c = L/T\n",
    "cg = c/2"
   ]
  },
  {
   "cell_type": "code",
   "execution_count": 147,
   "metadata": {},
   "outputs": [
    {
     "name": "stderr",
     "output_type": "stream",
     "text": [
      "C:\\Users\\fadak\\AppData\\Local\\Temp/ipykernel_5204/1286928142.py:7: RuntimeWarning: invalid value encountered in arcsin\n",
      "  t = np.rad2deg(np.arcsin(s))\n",
      "C:\\Users\\fadak\\AppData\\Local\\Temp/ipykernel_5204/1286928142.py:5: RuntimeWarning: divide by zero encountered in double_scalars\n",
      "  m = (c[i]/c[i+1])\n"
     ]
    }
   ],
   "source": [
    "theta = []\n",
    "theta0 = 30\n",
    "\n",
    "for i in range(len(c)-1):\n",
    "    m = (c[i]/c[i+1])\n",
    "    s = m*np.sin(np.deg2rad(theta0))\n",
    "    t = np.rad2deg(np.arcsin(s))\n",
    "    theta.append(t)\n",
    "    theta0 = t\n",
    "    "
   ]
  },
  {
   "cell_type": "code",
   "execution_count": 148,
   "metadata": {},
   "outputs": [],
   "source": [
    "Kr_i = []\n",
    "for i in range(len(theta)-1):\n",
    "    x = np.sqrt(np.cos(np.deg2rad(theta[i]))/np.cos(np.deg2rad(theta[i+1])))\n",
    "    Kr_i.append(x)"
   ]
  },
  {
   "cell_type": "code",
   "execution_count": 149,
   "metadata": {},
   "outputs": [
    {
     "name": "stderr",
     "output_type": "stream",
     "text": [
      "C:\\Users\\fadak\\AppData\\Local\\Temp/ipykernel_5204/3946554800.py:3: RuntimeWarning: divide by zero encountered in double_scalars\n",
      "  x = np.sqrt((cg[i-1]+1)/cg[i-1])\n"
     ]
    }
   ],
   "source": [
    "Ks_i = []\n",
    "for i in range(len(cg)):\n",
    "    x = np.sqrt((cg[i-1]+1)/cg[i-1])\n",
    "    Ks_i.append(x)\n",
    "    \n",
    "Ks_i = [x for x in Ks_i if str(x) != 'inf']"
   ]
  },
  {
   "cell_type": "code",
   "execution_count": 161,
   "metadata": {},
   "outputs": [],
   "source": [
    "H = []\n",
    "H0 = 1\n",
    "\n",
    "for i in range(len(Kr_i)):\n",
    "    x = Kr_i[i]*Ks_i[i]*H0\n",
    "    H.append(x)\n",
    "    H0 = x"
   ]
  },
  {
   "cell_type": "code",
   "execution_count": 156,
   "metadata": {},
   "outputs": [
    {
     "data": {
      "text/plain": [
       "Text(0, 0.5, 'H(m)')"
      ]
     },
     "execution_count": 156,
     "metadata": {},
     "output_type": "execute_result"
    },
    {
     "data": {
      "image/png": "[encoded data removed]",
      "text/plain": [
       "<Figure size 1080x216 with 1 Axes>"
      ]
     },
     "metadata": {
      "needs_background": "light"
     },
     "output_type": "display_data"
    }
   ],
   "source": [
    "plt.figure(figsize=(15,3))\n",
    "h = np.arange(100,2,-2)\n",
    "plt.plot(h, H)\n",
    "plt.xlabel('h(m)')\n",
    "plt.ylabel('H(m)')"
   ]
  },
  {
   "cell_type": "code",
   "execution_count": 170,
   "metadata": {},
   "outputs": [],
   "source": [
    "Hmax = 0.78*h\n",
    "H = np.array(H)"
   ]
  },
  {
   "cell_type": "code",
   "execution_count": 172,
   "metadata": {},
   "outputs": [
    {
     "data": {
      "text/plain": [
       "Text(0, 0.5, 'H(m)')"
      ]
     },
     "execution_count": 172,
     "metadata": {},
     "output_type": "execute_result"
    },
    {
     "data": {
      "image/png": "[encoded data removed]",
      "text/plain": [
       "<Figure size 1080x216 with 1 Axes>"
      ]
     },
     "metadata": {
      "needs_background": "light"
     },
     "output_type": "display_data"
    }
   ],
   "source": [
    "plt.figure(figsize=(15,3))\n",
    "plt.plot(h, H)\n",
    "plt.plot(h, Hmax)\n",
    "plt.xlabel('h(m)')\n",
    "plt.ylabel('H(m)')"
   ]
  },
  {
   "cell_type": "code",
   "execution_count": 179,
   "metadata": {},
   "outputs": [],
   "source": [
    "Hi = []\n",
    "for i in range(len(Hmax)):\n",
    "    x = min(Hmax[i], H[i])\n",
    "    Hi.append(x)"
   ]
  },
  {
   "cell_type": "code",
   "execution_count": 180,
   "metadata": {},
   "outputs": [
    {
     "data": {
      "text/plain": [
       "Text(0, 0.5, 'H(m)')"
      ]
     },
     "execution_count": 180,
     "metadata": {},
     "output_type": "execute_result"
    },
    {
     "data": {
      "image/png": "[encoded data removed]",
      "text/plain": [
       "<Figure size 1080x216 with 1 Axes>"
      ]
     },
     "metadata": {
      "needs_background": "light"
     },
     "output_type": "display_data"
    }
   ],
   "source": [
    "plt.figure(figsize=(15,3))\n",
    "plt.plot(h, Hi)\n",
    "plt.xlabel('h(m)')\n",
    "plt.ylabel('H(m)')"
   ]
  },
  {
   "cell_type": "code",
   "execution_count": null,
   "metadata": {},
   "outputs": [],
   "source": []
  }
 ],
 "metadata": {
  "kernelspec": {
   "display_name": "Python 3 (ipykernel)",
   "language": "python",
   "name": "python3"
  },
  "language_info": {
   "codemirror_mode": {
    "name": "ipython",
    "version": 3
   },
   "file_extension": ".py",
   "mimetype": "text/x-python",
   "name": "python",
   "nbconvert_exporter": "python",
   "pygments_lexer": "ipython3",
   "version": "3.9.0"
  }
 },
 "nbformat": 4,
 "nbformat_minor": 4
}
